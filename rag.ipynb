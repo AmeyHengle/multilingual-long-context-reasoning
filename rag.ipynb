{
 "cells": [
  {
   "cell_type": "code",
   "execution_count": 1,
   "metadata": {},
   "outputs": [
    {
     "name": "stderr",
     "output_type": "stream",
     "text": [
      "2025-02-13 23:44:56.447541: I tensorflow/core/util/port.cc:110] oneDNN custom operations are on. You may see slightly different numerical results due to floating-point round-off errors from different computation orders. To turn them off, set the environment variable `TF_ENABLE_ONEDNN_OPTS=0`.\n",
      "2025-02-13 23:44:56.508686: I tensorflow/core/platform/cpu_feature_guard.cc:182] This TensorFlow binary is optimized to use available CPU instructions in performance-critical operations.\n",
      "To enable the following instructions: AVX2 AVX512F AVX512_VNNI FMA, in other operations, rebuild TensorFlow with the appropriate compiler flags.\n",
      "2025-02-13 23:44:57.638148: W tensorflow/compiler/tf2tensorrt/utils/py_utils.cc:38] TF-TRT Warning: Could not find TensorRT\n"
     ]
    }
   ],
   "source": [
    "import pickle\n",
    "import os\n",
    "import pandas as pd\n",
    "import sentence_transformers\n",
    "import numpy as np"
   ]
  },
  {
   "cell_type": "code",
   "execution_count": 2,
   "metadata": {},
   "outputs": [],
   "source": [
    "from sentence_transformers import SentenceTransformer\n",
    "device = 'cuda:3'\n",
    "model = SentenceTransformer(\"paraphrase-multilingual-mpnet-base-v2\").to(device)"
   ]
  },
  {
   "cell_type": "markdown",
   "metadata": {},
   "source": [
    "## 0k"
   ]
  },
  {
   "cell_type": "markdown",
   "metadata": {},
   "source": [
    "### vanilla top_k"
   ]
  },
  {
   "cell_type": "code",
   "execution_count": 3,
   "metadata": {},
   "outputs": [],
   "source": [
    "ROOT_DIR = '/home/prasoon/multilingual-long-reasoning'\n",
    "PATH_TO_FOLDER =  ROOT_DIR + '/' + 'prompts_0k'"
   ]
  },
  {
   "cell_type": "code",
   "execution_count": 31,
   "metadata": {},
   "outputs": [],
   "source": [
    "top_k = 10\n",
    "separator = {'en': '.', 'ar': '.', 'de': '.', 'es' : '.', 'vi': '.', 'zh' : '。', 'hi': '।'}\n",
    "\n",
    "for file in os.listdir(PATH_TO_FOLDER):\n",
    "\n",
    "    language = file.split('.')[0]\n",
    "    df = pd.read_csv(PATH_TO_FOLDER + '/' + file)\n",
    "    rag_prompts = []\n",
    "    for index, row in df.iterrows():\n",
    "        \n",
    "        passage = row['prompt'].split('<context>')[-1].split('</context>')[0]\n",
    "        sentences = passage.strip().split(separator[language])[:-1]\n",
    "        query = row['prompt'].split('</context>')[-1].split('\\n')[2].split('QUESTION:')[-1].strip()\n",
    "                \n",
    "        query_embedding = model.encode(query)\n",
    "        passage_embeddings = model.encode(sentences)\n",
    "                \n",
    "        similarity = model.similarity(query_embedding, passage_embeddings)\n",
    "        indices = np.argsort(similarity[0].tolist())[-top_k:][::-1]\n",
    "        chosen_sentences = [sentences[index].strip() for index in indices]\n",
    "\n",
    "        joiner = separator[language] + ' '\n",
    "        chosen_passage = joiner.join(chosen_sentences)+'.'\n",
    "        rag_prompt = row['prompt'].split('<context>')[0] + '<context>\\n' + chosen_passage + '\\n</context>' +  row['prompt'].split('</context>')[-1]\n",
    "        rag_prompts.append(rag_prompt)\n",
    "\n",
    "    df['rag_prompt_{}'.format(top_k)] = rag_prompts\n",
    "    df.to_csv(PATH_TO_FOLDER + '/' + file, index=False)"
   ]
  },
  {
   "cell_type": "markdown",
   "metadata": {},
   "source": [
    "## 2k"
   ]
  },
  {
   "cell_type": "markdown",
   "metadata": {},
   "source": [
    "### vanilla top_k"
   ]
  },
  {
   "cell_type": "code",
   "execution_count": 37,
   "metadata": {},
   "outputs": [],
   "source": [
    "ROOT_DIR = '/home/prasoon/multilingual-long-reasoning'\n",
    "PATH_TO_FOLDER =  ROOT_DIR + '/' + 'prompts_2k'"
   ]
  },
  {
   "cell_type": "code",
   "execution_count": 42,
   "metadata": {},
   "outputs": [],
   "source": [
    "top_k = 20\n",
    "separator = {'en': '.', 'ar': '.', 'de': '.', 'es' : '.', 'vi': '.', 'zh' : '。', 'hi': '।'}\n",
    "\n",
    "for file in os.listdir(PATH_TO_FOLDER):\n",
    "    \n",
    "    language = file.split('.')[0]\n",
    "    df = pd.read_csv(PATH_TO_FOLDER + '/' + file)\n",
    "    rag_prompts = []\n",
    "    for index, row in df.iterrows():\n",
    "\n",
    "        passage = row['prompt'].split('<context>')[-1].split('</context>')[0]\n",
    "        sentences = passage.strip().split(separator[language])[:-1]\n",
    "        query = row['prompt'].split('</context>')[-1].split('\\n')[2].split('QUESTION:')[-1].strip()\n",
    "        query_embedding = model.encode(query)\n",
    "        passage_embeddings = model.encode(sentences)\n",
    "        \n",
    "        similarity = model.similarity(query_embedding, passage_embeddings)\n",
    "        indices = np.argsort(similarity[0].tolist())[-top_k:][::-1]\n",
    "        chosen_sentences = [sentences[index].strip() for index in indices]\n",
    "        joiner = separator[language] + ' '\n",
    "        chosen_passage = joiner.join(chosen_sentences)+'.'\n",
    "        rag_prompt = row['prompt'].split('<context>')[0] + '<context>\\n' + chosen_passage + '\\n</context>' +  row['prompt'].split('</context>')[-1]\n",
    "        rag_prompts.append(rag_prompt)\n",
    "\n",
    "    df['rag_prompt_{}'.format(top_k)] = rag_prompts\n",
    "    df.to_csv(PATH_TO_FOLDER + '/' + file, index=False)"
   ]
  }
 ],
 "metadata": {
  "kernelspec": {
   "display_name": "Python 3",
   "language": "python",
   "name": "python3"
  },
  "language_info": {
   "codemirror_mode": {
    "name": "ipython",
    "version": 3
   },
   "file_extension": ".py",
   "mimetype": "text/x-python",
   "name": "python",
   "nbconvert_exporter": "python",
   "pygments_lexer": "ipython3",
   "version": "3.10.6"
  },
  "orig_nbformat": 4
 },
 "nbformat": 4,
 "nbformat_minor": 2
}
